{
 "cells": [
  {
   "cell_type": "code",
   "execution_count": null,
   "id": "5cfb5584",
   "metadata": {},
   "outputs": [],
   "source": [
    "import pandas as pd \n",
    "import numpy as np \n",
    "\n",
    "#file upload \n",
    "Data_file = 'AcinetobacterNIH.tsv'\n",
    "Acine_data= pd.read_csv(Data_file, sep='\\t')\n",
    "\n"
   ]
  },
  {
   "cell_type": "code",
   "execution_count": null,
   "id": "ed9400e8",
   "metadata": {},
   "outputs": [],
   "source": [
    "#local variables\n",
    "count = 0\n",
    "index = 0\n",
    "array_cities = []\n",
    "sampleHosts = []\n",
    "Date = Acine_data.iloc[:,5]\n",
    "location = Acine_data.iloc[:,6]\n",
    "sample_hosts = Acine_data.iloc[:,1]\n",
    "\n"
   ]
  },
  {
   "cell_type": "code",
   "execution_count": null,
   "id": "ae06238a",
   "metadata": {},
   "outputs": [],
   "source": [
    "#Analysis\n",
    "for val in location:\n",
    "    if val != \"USA\":\n",
    "        if val not in array_cities:\n",
    "            count+=1\n",
    "            array_cities.append(val)\n",
    "  \n",
    "for val in sample_hosts:\n",
    "    if val not in sampleHosts:\n",
    "        index+=1\n",
    "        sampleHosts.append(val)\n",
    "            \n",
    "  \n",
    "#print statements    \n",
    "print(\"The dataset has data from: \"+str(Date.min()) + \" and until \"+Date.max())\n",
    "print(\"The dataset has data from \"+ str(count)+\" unique cities\")\n",
    "print(\"The dataset has \"+ str(index)+\" unique sample hosts \")    "
   ]
  }
 ],
 "metadata": {
  "kernelspec": {
   "display_name": "Python 3",
   "language": "python",
   "name": "python3"
  },
  "language_info": {
   "codemirror_mode": {
    "name": "ipython",
    "version": 3
   },
   "file_extension": ".py",
   "mimetype": "text/x-python",
   "name": "python",
   "nbconvert_exporter": "python",
   "pygments_lexer": "ipython3",
   "version": "3.7.10"
  }
 },
 "nbformat": 4,
 "nbformat_minor": 5
}
